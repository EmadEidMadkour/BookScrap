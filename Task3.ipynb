{
 "cells": [
  {
   "cell_type": "markdown",
   "id": "8de57a96-b82a-4c34-9d34-cf6456911d7c",
   "metadata": {},
   "source": [
    "#Task 3\r\n",
    "---------\r\n",
    "Scrap the books (name, price, rate) for each category and put them into a CSV & Excel file\r\n",
    "https://books.toscrape.com/"
   ]
  },
  {
   "cell_type": "code",
   "execution_count": 3,
   "id": "89f0630a-ceb2-4f42-9359-807efcabaa26",
   "metadata": {},
   "outputs": [],
   "source": [
    "import requests\n",
    "from bs4 import BeautifulSoup\n",
    "import csv"
   ]
  },
  {
   "cell_type": "code",
   "execution_count": 4,
   "id": "4b5f297c-df68-4f2b-8ce1-f78bedc6567b",
   "metadata": {},
   "outputs": [],
   "source": [
    "response=requests.get(\"https://books.toscrape.com/\")"
   ]
  },
  {
   "cell_type": "code",
   "execution_count": 4,
   "id": "24dcd704-f013-43bc-87c2-d1dd45c2de58",
   "metadata": {},
   "outputs": [],
   "source": [
    "soup=BeautifulSoup(response.text,\"html.parser\")"
   ]
  },
  {
   "cell_type": "code",
   "execution_count": 33,
   "id": "44261579-b907-47ce-ab9c-d818fb63b121",
   "metadata": {},
   "outputs": [
    {
     "data": {
      "text/plain": [
       "'A Light in the Attic'"
      ]
     },
     "execution_count": 33,
     "metadata": {},
     "output_type": "execute_result"
    }
   ],
   "source": [
    "soup.find_all(\"li\",attrs={\"class\":\"col-xs-6 col-sm-4 col-md-3 col-lg-3\"})[0].find(\"h3\").find(\"a\").get(\"title\")"
   ]
  },
  {
   "cell_type": "code",
   "execution_count": 38,
   "id": "7f29edc4-27cd-4b5c-8ff0-7e5b41e45118",
   "metadata": {},
   "outputs": [
    {
     "data": {
      "text/plain": [
       "'51.77'"
      ]
     },
     "execution_count": 38,
     "metadata": {},
     "output_type": "execute_result"
    }
   ],
   "source": [
    "soup.find_all(\"li\",attrs={\"class\":\"col-xs-6 col-sm-4 col-md-3 col-lg-3\"})[0].find(\"p\",attrs={\"class\":\"price_color\"}).get_text()[2:]"
   ]
  },
  {
   "cell_type": "code",
   "execution_count": null,
   "id": "da55985c-3485-4670-b5e5-bdbf31d52a86",
   "metadata": {},
   "outputs": [],
   "source": [
    "soup.find_all(\"li\",attrs={\"class\":\"col-xs-6 col-sm-4 col-md-3 col-lg-3\"})[0].find(\"p\",attrs={\"class\":\"star-rating\"}).get(\"class\")[1]"
   ]
  },
  {
   "cell_type": "code",
   "execution_count": 16,
   "id": "16f61820-518e-4d9e-83cf-55210cb46aa8",
   "metadata": {},
   "outputs": [],
   "source": [
    "Book_Counter=1\n",
    "Page_Number=1\n",
    "\n",
    "with open(\"book.csv\",\"w\",newline=\"\",encoding=\"utf-8\") as f:\n",
    "    writer=csv.DictWriter(f,fieldnames=[\"Name\",\"Price\",\"Rate\"])\n",
    "    writer.writeheader()\n",
    "    while Book_Counter<1000:\n",
    "        response=requests.get(f\"https://books.toscrape.com/catalogue/page-{Page_Number}.html\")\n",
    "        soup=BeautifulSoup(response.text,\"html.parser\")\n",
    "        Page_element=soup.find_all(\"li\",attrs={\"class\":\"col-xs-6 col-sm-4 col-md-3 col-lg-3\"})\n",
    "        for book in Page_element:\n",
    "            Book_Counter=Book_Counter+1\n",
    "            Name=book.find(\"h3\").find(\"a\").get(\"title\")\n",
    "            Price=book.find(\"p\",attrs={\"class\":\"price_color\"}).get_text()[2:]\n",
    "            Rate=book.find(\"p\",attrs={\"class\":\"star-rating\"}).get(\"class\")[1]\n",
    "            writer.writerow({\"Name\":Name,\"Price\":Price,\"Rate\":Rate})    \n",
    "        Page_Number += 1\n",
    "        \n",
    "        \n",
    "        "
   ]
  }
 ],
 "metadata": {
  "kernelspec": {
   "display_name": "Python 3 (ipykernel)",
   "language": "python",
   "name": "python3"
  },
  "language_info": {
   "codemirror_mode": {
    "name": "ipython",
    "version": 3
   },
   "file_extension": ".py",
   "mimetype": "text/x-python",
   "name": "python",
   "nbconvert_exporter": "python",
   "pygments_lexer": "ipython3",
   "version": "3.10.13"
  }
 },
 "nbformat": 4,
 "nbformat_minor": 5
}
